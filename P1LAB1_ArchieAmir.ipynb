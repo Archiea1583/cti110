{
  "nbformat": 4,
  "nbformat_minor": 0,
  "metadata": {
    "colab": {
      "provenance": []
    },
    "kernelspec": {
      "name": "python3",
      "display_name": "Python 3"
    },
    "language_info": {
      "name": "python"
    }
  },
  "cells": [
    {
      "cell_type": "code",
      "execution_count": 26,
      "metadata": {
        "colab": {
          "base_uri": "https://localhost:8080/"
        },
        "id": "fscIWJBQq4T-",
        "outputId": "65f849a4-9a27-4c36-fbd2-eda2da1d3c71"
      },
      "outputs": [
        {
          "output_type": "stream",
          "name": "stdout",
          "text": [
            "\n",
            "Enter you First name: Cynthia\n",
            "Enter you last name: Cupcakes\n",
            "Hello, Cynthia Cupcakes! Welcome to CTI-110\n"
          ]
        }
      ],
      "source": [
        "#Introduction to Python 3\n",
        "#Amir Archie\n",
        "#2/25/2025\n",
        "#P1LAB\n",
        "#Create A Python Program Using IDLE\n",
        "\n",
        "\n",
        "\n",
        "\n",
        "First_name = \"Cynthia\"\n",
        "Last_name = \"Cupcakes\"\n",
        "\n",
        "print()\n",
        "\n",
        "\n",
        "print(\"Enter you First name:\", First_name)\n",
        "print(\"Enter you last name:\", Last_name)\n",
        "print(\"Hello, Cynthia Cupcakes! Welcome to CTI-110\")\n",
        "\n"
      ]
    }
  ]
}